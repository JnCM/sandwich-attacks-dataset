{
 "cells": [
  {
   "cell_type": "code",
   "execution_count": 1,
   "metadata": {},
   "outputs": [],
   "source": [
    "import requests, json, gzip, os\n",
    "import pandas as pd\n",
    "from datetime import datetime"
   ]
  },
  {
   "cell_type": "code",
   "execution_count": 2,
   "metadata": {},
   "outputs": [
    {
     "name": "stdout",
     "output_type": "stream",
     "text": [
      "74283\n",
      "{\"_id\":{\"$oid\":\"65a01f98a2e956442d19f540\"},\"block_number\":16308191,\"block_timestamp\":1672531223,\"first_transaction\":{\"hash\":\"0x155fd4919a33a9b41480ceed4a3a68eaa43b6608eb6c9657a63a97fecac396e7\",\"accessList\":[{\"address\":\"0xE0554a476A092703abdB3Ef35c80e0D76d32939F\",\"storageKeys\":[{\"$binary\":{\"base64\":\"AAAAAAAAAAAAAAAAAAAAAAAAAAAAAAAAAAAAAAAAAAI=\",\"subType\":\"00\"}},{\"$binary\":{\"base64\":\"611nDCkdypjPji6yv6ThFJlGDSBgWcj7h3etKIKeiss=\",\"subType\":\"00\"}},{\"$binary\":{\"base64\":\"611nDCkdypjPji6yv6ThFJlGDSBgWcj7h3etKIKeisw=\",\"subType\":\"00\"}},{\"$binary\":{\"base64\":\"AAAAAAAAAAAAAAAAAAAAAAAAAAAAAAAAAAAAAAAAAAA=\",\"subType\":\"00\"}},{\"$binary\":{\"base64\":\"AAAAAAAAAAAAAAAAAAAAAAAAAAAAAAAAAAAAAAAAAAg=\",\"subType\":\"00\"}},{\"$binary\":{\"base64\":\"AAAAAAAAAAAAAAAAAAAAAAAAAAAAAAAAAAAAAAAAAAE=\",\"subType\":\"00\"}},{\"$binary\":{\"base64\":\"1b9jyS6Y69kGuiYg1ppDR4Z6JvMJCcxVZ+Ez7EwJ0sY=\",\"subType\":\"00\"}},{\"$binary\":{\"base64\":\"1b9jyS6Y69kGuiYg1ppDR4Z6JvMJCcxVZ+Ez7EwJ0sc=\",\"subType\":\"00\"}},{\"$binary\":{\"base64\":\"1b9jyS6Y69kGuiYg1ppDR4Z6JvMJCcxVZ+Ez7EwJ0sU=\",\"subType\":\"00\"}},{\"$binary\":{\"base64\":\"611nDCkdypjPji6yv6ThFJlGDSBgWcj7h3etKIKeiso=\",\"subType\":\"00\"}},{\"$binary\":{\"base64\":\"611nDCkdypjPji6yv6ThFJlGDSBgWcj7h3etKIKeisk=\",\"subType\":\"00\"}},{\"$binary\":{\"base64\":\"1b9jyS6Y69kGuiYg1ppDR4Z6JvMJCcxVZ+Ez7EwJ0sg=\",\"subType\":\"00\"}},{\"$binary\":{\"base64\":\"AAAAAAAAAAAAAAAAAAAAAAAAAAAAAAAAAAAAAAAAAAQ=\",\"subType\":\"00\"}},{\"$binary\":{\"base64\":\"/RKF/vOYtI2GOsYXJ46BrzxERZ4qg/6NlWJomduGXxg=\",\"subType\":\"00\"}},{\"$binary\":{\"base64\":\"nI35h2VDSzrrgjfiKPTcv80EQxIN3epsrbssCFr3/uA=\",\"subType\":\"00\"}}]},{\"address\":\"0xA0b86991c6218b36c1d19D4a2e9Eb0cE3606eB48\",\"storageKeys\":[{\"$binary\":{\"base64\":\"ufZZH8Uuuj4VyKNVIqhebTIOkITevjA5muR3DmP4k4k=\",\"subType\":\"00\"}},{\"$binary\":{\"base64\":\"Gr41nwxVRnRvYoWXb/By8rQTnVI88z8eO6zh5LreuVA=\",\"subType\":\"00\"}},{\"$binary\":{\"base64\":\"ENalSkdUyIadaIa19df7+ltFIiN+pcYNEbxOeh/5OQs=\",\"subType\":\"00\"}},{\"$binary\":{\"base64\":\"cFDJ4PTKdpxpvTqO90C8N5NPjiwDblpyP9juBI7T+MM=\",\"subType\":\"00\"}},{\"$binary\":{\"base64\":\"AAAAAAAAAAAAAAAAAAAAAAAAAAAAAAAAAAAAAAAAAAE=\",\"subType\":\"00\"}},{\"$binary\":{\"base64\":\"GbgB332ZnOqObX1/eysLuP8HyxabWSLGGlYBgF1OWqY=\",\"subType\":\"00\"}},{\"$binary\":{\"base64\":\"dzp4dpN8XtD4LXfCfLQ3POIwUMBCZ1I0l5TWGh+/UcY=\",\"subType\":\"00\"}}]},{\"address\":\"0xa2327a938Febf5FEC13baCFb16Ae10EcBc4cbDCF\",\"storageKeys\":[]},{\"address\":\"0xC02aaA39b223FE8D0A0e5C4F27eAD9083C756Cc2\",\"storageKeys\":[{\"$binary\":{\"base64\":\"GbgB332ZnOqObX1/eysLuP8HyxabWSLGGlYBgF1OWqY=\",\"subType\":\"00\"}},{\"$binary\":{\"base64\":\"dzp4dpN8XtD4LXfCfLQ3POIwUMBCZ1I0l5TWGh+/UcY=\",\"subType\":\"00\"}}]}],\"chainId\":1,\"from\":\"0x7aA0426F10C7603BBFb8CEB8AFb8d8c329ccfE8b\",\"gas\":367129,\"gasPrice\":14219277804,\"input\":{\"$binary\":{\"base64\":\"AAAACVPdNdnAKqo5siP+jQoOXE8n6tkIPHVswgAAAAAAAAAAoLhpkcYhizbB0Z1KLp6wzjYG60gAAAAAAAAAAAAAAADgVUpHagknA6vbPvNcgODXbTKTnwAAZAAAAAAAAAAAAAAAAAAAAAASAauhc96DFI8AAAAAAAAAAAAAAAAAAAAA\",\"subType\":\"00\"}},\"maxFeePerGas\":14219277804,\"maxPriorityFeePerGas\":14219277804,\"nonce\":57780,\"to\":\"0x000000000035B5e5ad9019092C665357240f594e\",\"transactionIndex\":0,\"type\":2,\"value\":\"0\"},\"whale_transaction\":{\"hash\":\"0xbe2ac237061b744bd788485a10618c019c72c1ccb17356e8a1c52459499a8162\",\"accessList\":[],\"chainId\":1,\"from\":\"0xd6D2F309AA7FD3b0039692238353a671E4c23c87\",\"gas\":887132,\"gasPrice\":16219277804,\"input\":{\"$binary\":{\"base64\":\"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\",\"subType\":\"00\"}},\"maxFeePerGas\":24991036037,\"maxPriorityFeePerGas\":2000000000,\"nonce\":653,\"to\":\"0x881D40237659C251811CEC9c364ef91dC08D300C\",\"transactionIndex\":1,\"type\":2,\"value\":\"0\"},\"second_transaction\":{\"hash\":\"0xc2a441f1cc431b25b6acac08a5112e3545afdfb969a5f118a890f9e852f51a02\",\"accessList\":[],\"chainId\":1,\"from\":\"0x7aA0426F10C7603BBFb8CEB8AFb8d8c329ccfE8b\",\"gas\":368095,\"gasPrice\":251991821849,\"input\":{\"$binary\":{\"base64\":\"AAAACVPdNdmguGmRxiGLNsHRnUounrDONgbrSAEAAAAAAAAAwCqqObIj/o0KDlxPJ+rZCDx1bMIAAAASAlBS8GiJVd/gVUpHagknA6vbPvNcgODXbTKTnwAAZAAAAAAAAAAAAAAAAAAAAAAAAAAAW4nKAjIAAAAAAAAAAAAAAAAAAAAA\",\"subType\":\"00\"}},\"maxFeePerGas\":251991821849,\"maxPriorityFeePerGas\":251991821849,\"nonce\":57781,\"to\":\"0x000000000035B5e5ad9019092C665357240f594e\",\"transactionIndex\":2,\"type\":2,\"value\":\"0\"},\"eth_usd_price\":1196.6130648084502,\"cost_eth\":0.04473501897381237,\"cost_usd\":53.53050815851779,\"gain_eth\":0.04635704463027438,\"gain_usd\":55.47144525049474,\"profit_eth\":0.001622025656462013,\"profit_usd\":1.9409370919769477,\"exchange_address\":\"0xE0554a476A092703abdB3Ef35c80e0D76d32939F\",\"exchange_name\":\"0xE0554a476A092703abdB3Ef35c80e0D76d32939F\",\"token_address\":\"0xA0b86991c6218b36c1d19D4a2e9Eb0cE3606eB48\",\"token_name\":\"USD Coin\",\"first_transaction_eth_amount\":\"332161760660853822607\",\"whale_transaction_eth_amount\":\"5642356349055247829\",\"second_transaction_eth_amount\":\"332208117705484096991\",\"first_transaction_token_amount\":\"393153741363\",\"whale_transaction_token_amount\":\"6610394758\",\"second_transaction_token_amount\":\"393153741362\",\"interface\":\"bot\",\"bot_address\":\"0x000000000035B5e5ad9019092C665357240f594e\",\"same_sender\":true,\"same_receiver\":true,\"same_token_amount\":false}\n",
      "\n"
     ]
    }
   ],
   "source": [
    "with open(\"Dados/attacks_012023.json\", \"r\", encoding=\"utf-8\") as f:\n",
    "    attacks = f.readlines()\n",
    "f.close()\n",
    "print(len(attacks))\n",
    "print(attacks[0])"
   ]
  },
  {
   "cell_type": "code",
   "execution_count": 20,
   "metadata": {},
   "outputs": [
    {
     "name": "stdout",
     "output_type": "stream",
     "text": [
      "2023-01-01 00:00:28\n",
      "Empty DataFrame\n",
      "Columns: [detecttime, hash, status, region, reorg, replace, curblocknumber, failurereason, blockspending, timepending, nonce, gas, gasprice, value, toaddress, fromaddress, input, network, type, maxpriorityfeepergas, maxfeepergas, basefeepergas, dropreason, rejectionreason, stuck, gasused, detect_date]\n",
      "Index: []\n",
      "\n",
      "[0 rows x 27 columns]\n",
      "                      detecttime  \\\n",
      "144687  2023-01-01T00:00:03.797Z   \n",
      "144693  2023-01-01T00:00:03.820Z   \n",
      "144712  2023-01-01T00:00:03.905Z   \n",
      "\n",
      "                                                     hash   status  \\\n",
      "144687  0xbe2ac237061b744bd788485a10618c019c72c1ccb173...  pending   \n",
      "144693  0xbe2ac237061b744bd788485a10618c019c72c1ccb173...  pending   \n",
      "144712  0xbe2ac237061b744bd788485a10618c019c72c1ccb173...  pending   \n",
      "\n",
      "                region  reorg replace  curblocknumber failurereason  \\\n",
      "144687       us-east-1    NaN     NaN        16308189          none   \n",
      "144693    eu-central-1    NaN     NaN        16308189          none   \n",
      "144712  ap-southeast-1    NaN     NaN        16308189          none   \n",
      "\n",
      "        blockspending  timepending  ...  network  type  maxpriorityfeepergas  \\\n",
      "144687            NaN          NaN  ...     main   2.0          2.000000e+09   \n",
      "144693            NaN          NaN  ...     main   2.0          2.000000e+09   \n",
      "144712            NaN          NaN  ...     main   2.0          2.000000e+09   \n",
      "\n",
      "        maxfeepergas basefeepergas dropreason rejectionreason  stuck  gasused  \\\n",
      "144687  2.499104e+10   12606011247        NaN             NaN  False     -1.0   \n",
      "144693  2.499104e+10   12606011247        NaN             NaN  False     -1.0   \n",
      "144712  2.499104e+10   12606011247        NaN             NaN  False     -1.0   \n",
      "\n",
      "        detect_date  \n",
      "144687   2023-01-01  \n",
      "144693   2023-01-01  \n",
      "144712   2023-01-01  \n",
      "\n",
      "[3 rows x 27 columns]\n",
      "Empty DataFrame\n",
      "Columns: [detecttime, hash, status, region, reorg, replace, curblocknumber, failurereason, blockspending, timepending, nonce, gas, gasprice, value, toaddress, fromaddress, input, network, type, maxpriorityfeepergas, maxfeepergas, basefeepergas, dropreason, rejectionreason, stuck, gasused, detect_date]\n",
      "Index: []\n",
      "\n",
      "[0 rows x 27 columns]\n"
     ]
    },
    {
     "name": "stderr",
     "output_type": "stream",
     "text": [
      "C:\\Users\\josue\\AppData\\Local\\Temp\\ipykernel_5476\\3957241747.py:27: DtypeWarning: Columns (24) have mixed types. Specify dtype option on import or set low_memory=False.\n",
      "  df_mempool = pd.read_csv(f, sep=\"\\t\")\n"
     ]
    }
   ],
   "source": [
    "url_zeromev = \"https://data.zeromev.org/v1\"\n",
    "\n",
    "for attack in attacks:\n",
    "    attack_formatted = json.loads(attack)\n",
    "\n",
    "    response = requests.get(url_zeromev + \"/mevBlock\", params={\n",
    "        \"block_number\": attack_formatted[\"block_number\"],\n",
    "        \"count\": 1\n",
    "    })\n",
    "\n",
    "    block_datetime = datetime.strptime(response.json()[0][\"arrival_time_eu\"].split(\".\")[0], \"%Y-%m-%dT%H:%M:%S\")\n",
    "    mempool_filename = \"Mempool/{}{:02d}{:02d}_{:02d}.csv.gz\".format(block_datetime.year, block_datetime.month, block_datetime.day, block_datetime.hour)\n",
    "    print(block_datetime)\n",
    "\n",
    "\n",
    "    if not os.path.exists(mempool_filename):\n",
    "        url_blocknative = \"https://archive.blocknative.com/{}{:02d}{:02d}/{:02d}.csv.gz\".format(block_datetime.year, block_datetime.month, block_datetime.day, block_datetime.hour)\n",
    "        response = requests.get(url_blocknative, stream=True)\n",
    "        if response.status_code == 200:\n",
    "            f = open(mempool_filename, \"wb\")\n",
    "            f.write(response.raw.read())\n",
    "            f.close()\n",
    "        else:\n",
    "            print(\"ERRO: {}\".format(response.status_code))\n",
    "    \n",
    "    f = gzip.open(mempool_filename)\n",
    "    df_mempool = pd.read_csv(f, sep=\"\\t\")\n",
    "    f.close()\n",
    "    \n",
    "    tx_hash_ta1 = attack_formatted[\"first_transaction\"][\"hash\"]\n",
    "    tx_hash_tv = attack_formatted[\"whale_transaction\"][\"hash\"]\n",
    "    tx_hash_ta2 = attack_formatted[\"second_transaction\"][\"hash\"]\n",
    "    \n",
    "    print(df_mempool.loc[(df_mempool[\"hash\"] == tx_hash_ta1) & (df_mempool[\"status\"] == \"pending\")])\n",
    "    print(df_mempool.loc[(df_mempool[\"hash\"] == tx_hash_tv) & (df_mempool[\"status\"] == \"pending\")])\n",
    "    print(df_mempool.loc[(df_mempool[\"hash\"] == tx_hash_ta2) & (df_mempool[\"status\"] == \"pending\")])\n",
    "    break"
   ]
  }
 ],
 "metadata": {
  "kernelspec": {
   "display_name": "venv",
   "language": "python",
   "name": "python3"
  },
  "language_info": {
   "codemirror_mode": {
    "name": "ipython",
    "version": 3
   },
   "file_extension": ".py",
   "mimetype": "text/x-python",
   "name": "python",
   "nbconvert_exporter": "python",
   "pygments_lexer": "ipython3",
   "version": "3.11.0"
  }
 },
 "nbformat": 4,
 "nbformat_minor": 2
}
